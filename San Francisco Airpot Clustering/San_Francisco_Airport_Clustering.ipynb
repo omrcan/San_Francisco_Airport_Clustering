{
 "cells": [
  {
   "cell_type": "markdown",
   "id": "9J63ARqLa0mU",
   "metadata": {
    "id": "9J63ARqLa0mU"
   },
   "source": [
    "# San Francisco Airport Clustering"
   ]
  },
  {
   "cell_type": "markdown",
   "id": "iNIu6igfa0tO",
   "metadata": {
    "id": "iNIu6igfa0tO"
   },
   "source": [
    " <img src=\"https://upload.wikimedia.org/wikipedia/commons/thumb/d/de/San_Francisco_International_Airport_-_aerial_photo.jpg/1200px-San_Francisco_International_Airport_-_aerial_photo.jpg\" />"
   ]
  },
  {
   "cell_type": "markdown",
   "id": "VFvYi3M8ar1U",
   "metadata": {
    "id": "VFvYi3M8ar1U"
   },
   "source": [
    "### Clustering Application Project on Monthly Statistics Provided by San Francisco Open Data and Airlines at San Francisco International Airport."
   ]
  },
  {
   "cell_type": "code",
   "execution_count": 1,
   "id": "91dbcd04",
   "metadata": {
    "id": "91dbcd04"
   },
   "outputs": [],
   "source": [
    "import pandas as pd"
   ]
  },
  {
   "cell_type": "code",
   "execution_count": 2,
   "id": "62cece1d",
   "metadata": {
    "id": "62cece1d"
   },
   "outputs": [],
   "source": [
    "df=pd.read_csv('air-traffic-passenger-statistics.csv')"
   ]
  },
  {
   "cell_type": "markdown",
   "id": "E_Bk9oFecPJ8",
   "metadata": {
    "id": "E_Bk9oFecPJ8"
   },
   "source": [
    "##Exploratory Data Analysis"
   ]
  },
  {
   "cell_type": "code",
   "execution_count": 3,
   "id": "7d3d3309",
   "metadata": {
    "colab": {
     "base_uri": "https://localhost:8080/",
     "height": 241
    },
    "id": "7d3d3309",
    "outputId": "e82add09-3330-405a-c4fa-b514a729d3f4"
   },
   "outputs": [
    {
     "data": {
      "text/html": [
       "<div>\n",
       "<style scoped>\n",
       "    .dataframe tbody tr th:only-of-type {\n",
       "        vertical-align: middle;\n",
       "    }\n",
       "\n",
       "    .dataframe tbody tr th {\n",
       "        vertical-align: top;\n",
       "    }\n",
       "\n",
       "    .dataframe thead th {\n",
       "        text-align: right;\n",
       "    }\n",
       "</style>\n",
       "<table border=\"1\" class=\"dataframe\">\n",
       "  <thead>\n",
       "    <tr style=\"text-align: right;\">\n",
       "      <th></th>\n",
       "      <th>Activity Period</th>\n",
       "      <th>Operating Airline</th>\n",
       "      <th>Operating Airline IATA Code</th>\n",
       "      <th>Published Airline</th>\n",
       "      <th>Published Airline IATA Code</th>\n",
       "      <th>GEO Summary</th>\n",
       "      <th>GEO Region</th>\n",
       "      <th>Activity Type Code</th>\n",
       "      <th>Price Category Code</th>\n",
       "      <th>Terminal</th>\n",
       "      <th>Boarding Area</th>\n",
       "      <th>Passenger Count</th>\n",
       "    </tr>\n",
       "  </thead>\n",
       "  <tbody>\n",
       "    <tr>\n",
       "      <th>0</th>\n",
       "      <td>200507</td>\n",
       "      <td>ATA Airlines</td>\n",
       "      <td>TZ</td>\n",
       "      <td>ATA Airlines</td>\n",
       "      <td>TZ</td>\n",
       "      <td>Domestic</td>\n",
       "      <td>US</td>\n",
       "      <td>Deplaned</td>\n",
       "      <td>Low Fare</td>\n",
       "      <td>Terminal 1</td>\n",
       "      <td>B</td>\n",
       "      <td>27271</td>\n",
       "    </tr>\n",
       "    <tr>\n",
       "      <th>1</th>\n",
       "      <td>200507</td>\n",
       "      <td>ATA Airlines</td>\n",
       "      <td>TZ</td>\n",
       "      <td>ATA Airlines</td>\n",
       "      <td>TZ</td>\n",
       "      <td>Domestic</td>\n",
       "      <td>US</td>\n",
       "      <td>Enplaned</td>\n",
       "      <td>Low Fare</td>\n",
       "      <td>Terminal 1</td>\n",
       "      <td>B</td>\n",
       "      <td>29131</td>\n",
       "    </tr>\n",
       "    <tr>\n",
       "      <th>2</th>\n",
       "      <td>200507</td>\n",
       "      <td>ATA Airlines</td>\n",
       "      <td>TZ</td>\n",
       "      <td>ATA Airlines</td>\n",
       "      <td>TZ</td>\n",
       "      <td>Domestic</td>\n",
       "      <td>US</td>\n",
       "      <td>Thru / Transit</td>\n",
       "      <td>Low Fare</td>\n",
       "      <td>Terminal 1</td>\n",
       "      <td>B</td>\n",
       "      <td>5415</td>\n",
       "    </tr>\n",
       "    <tr>\n",
       "      <th>3</th>\n",
       "      <td>200507</td>\n",
       "      <td>Air Canada</td>\n",
       "      <td>AC</td>\n",
       "      <td>Air Canada</td>\n",
       "      <td>AC</td>\n",
       "      <td>International</td>\n",
       "      <td>Canada</td>\n",
       "      <td>Deplaned</td>\n",
       "      <td>Other</td>\n",
       "      <td>Terminal 1</td>\n",
       "      <td>B</td>\n",
       "      <td>35156</td>\n",
       "    </tr>\n",
       "    <tr>\n",
       "      <th>4</th>\n",
       "      <td>200507</td>\n",
       "      <td>Air Canada</td>\n",
       "      <td>AC</td>\n",
       "      <td>Air Canada</td>\n",
       "      <td>AC</td>\n",
       "      <td>International</td>\n",
       "      <td>Canada</td>\n",
       "      <td>Enplaned</td>\n",
       "      <td>Other</td>\n",
       "      <td>Terminal 1</td>\n",
       "      <td>B</td>\n",
       "      <td>34090</td>\n",
       "    </tr>\n",
       "  </tbody>\n",
       "</table>\n",
       "</div>"
      ],
      "text/plain": [
       "   Activity Period Operating Airline Operating Airline IATA Code  \\\n",
       "0           200507      ATA Airlines                          TZ   \n",
       "1           200507      ATA Airlines                          TZ   \n",
       "2           200507      ATA Airlines                          TZ   \n",
       "3           200507        Air Canada                          AC   \n",
       "4           200507        Air Canada                          AC   \n",
       "\n",
       "  Published Airline Published Airline IATA Code    GEO Summary GEO Region  \\\n",
       "0      ATA Airlines                          TZ       Domestic         US   \n",
       "1      ATA Airlines                          TZ       Domestic         US   \n",
       "2      ATA Airlines                          TZ       Domestic         US   \n",
       "3        Air Canada                          AC  International     Canada   \n",
       "4        Air Canada                          AC  International     Canada   \n",
       "\n",
       "  Activity Type Code Price Category Code    Terminal Boarding Area  \\\n",
       "0           Deplaned            Low Fare  Terminal 1             B   \n",
       "1           Enplaned            Low Fare  Terminal 1             B   \n",
       "2     Thru / Transit            Low Fare  Terminal 1             B   \n",
       "3           Deplaned               Other  Terminal 1             B   \n",
       "4           Enplaned               Other  Terminal 1             B   \n",
       "\n",
       "   Passenger Count  \n",
       "0            27271  \n",
       "1            29131  \n",
       "2             5415  \n",
       "3            35156  \n",
       "4            34090  "
      ]
     },
     "execution_count": 3,
     "metadata": {},
     "output_type": "execute_result"
    }
   ],
   "source": [
    "df.head()"
   ]
  },
  {
   "cell_type": "code",
   "execution_count": 4,
   "id": "b6a8b814",
   "metadata": {
    "colab": {
     "base_uri": "https://localhost:8080/"
    },
    "id": "b6a8b814",
    "outputId": "4eb0f00c-0a6a-4aa6-99fc-e28873cfa99a"
   },
   "outputs": [
    {
     "data": {
      "text/plain": [
       "(18885, 12)"
      ]
     },
     "execution_count": 4,
     "metadata": {},
     "output_type": "execute_result"
    }
   ],
   "source": [
    "df.shape"
   ]
  },
  {
   "cell_type": "code",
   "execution_count": 5,
   "id": "6fe816b9",
   "metadata": {
    "colab": {
     "base_uri": "https://localhost:8080/"
    },
    "id": "6fe816b9",
    "outputId": "508d96ba-5ca6-4dd6-e62f-4d6a53e36216",
    "scrolled": true
   },
   "outputs": [
    {
     "name": "stdout",
     "output_type": "stream",
     "text": [
      "<class 'pandas.core.frame.DataFrame'>\n",
      "RangeIndex: 18885 entries, 0 to 18884\n",
      "Data columns (total 12 columns):\n",
      " #   Column                       Non-Null Count  Dtype \n",
      "---  ------                       --------------  ----- \n",
      " 0   Activity Period              18885 non-null  int64 \n",
      " 1   Operating Airline            18885 non-null  object\n",
      " 2   Operating Airline IATA Code  18822 non-null  object\n",
      " 3   Published Airline            18885 non-null  object\n",
      " 4   Published Airline IATA Code  18822 non-null  object\n",
      " 5   GEO Summary                  18885 non-null  object\n",
      " 6   GEO Region                   18885 non-null  object\n",
      " 7   Activity Type Code           18885 non-null  object\n",
      " 8   Price Category Code          18885 non-null  object\n",
      " 9   Terminal                     18885 non-null  object\n",
      " 10  Boarding Area                18885 non-null  object\n",
      " 11  Passenger Count              18885 non-null  int64 \n",
      "dtypes: int64(2), object(10)\n",
      "memory usage: 1.7+ MB\n"
     ]
    }
   ],
   "source": [
    "df.info()"
   ]
  },
  {
   "cell_type": "code",
   "execution_count": 6,
   "id": "ac22b10f",
   "metadata": {
    "id": "ac22b10f"
   },
   "outputs": [],
   "source": [
    "from sklearn.cluster import KMeans\n",
    "from yellowbrick.cluster import KElbowVisualizer\n",
    "from sklearn.metrics import silhouette_score"
   ]
  },
  {
   "cell_type": "code",
   "execution_count": 7,
   "id": "b147af47",
   "metadata": {
    "colab": {
     "base_uri": "https://localhost:8080/"
    },
    "id": "b147af47",
    "outputId": "cf5183fd-48b0-4ef9-e5a7-ca63e18a5de0"
   },
   "outputs": [
    {
     "data": {
      "text/plain": [
       "Activity Period                 0\n",
       "Operating Airline               0\n",
       "Operating Airline IATA Code    63\n",
       "Published Airline               0\n",
       "Published Airline IATA Code    63\n",
       "GEO Summary                     0\n",
       "GEO Region                      0\n",
       "Activity Type Code              0\n",
       "Price Category Code             0\n",
       "Terminal                        0\n",
       "Boarding Area                   0\n",
       "Passenger Count                 0\n",
       "dtype: int64"
      ]
     },
     "execution_count": 7,
     "metadata": {},
     "output_type": "execute_result"
    }
   ],
   "source": [
    "df.isnull().sum()"
   ]
  },
  {
   "cell_type": "code",
   "execution_count": 8,
   "id": "d5b3b1d9",
   "metadata": {
    "colab": {
     "base_uri": "https://localhost:8080/"
    },
    "id": "d5b3b1d9",
    "outputId": "cf7cf11d-e799-4d77-9e3e-7ab23eb39d68"
   },
   "outputs": [
    {
     "data": {
      "text/plain": [
       "Operating Airline\n",
       "United Airlines - Pre 07/01/2013    2154\n",
       "United Airlines                     1653\n",
       "SkyWest Airlines                    1212\n",
       "Alaska Airlines                      891\n",
       "Virgin America                       462\n",
       "                                    ... \n",
       "Xtra Airways                           2\n",
       "Evergreen International Airlines       2\n",
       "Pacific Aviation                       2\n",
       "Icelandair EHF                         2\n",
       "Boeing Company                         1\n",
       "Name: count, Length: 89, dtype: int64"
      ]
     },
     "execution_count": 8,
     "metadata": {},
     "output_type": "execute_result"
    }
   ],
   "source": [
    "df['Operating Airline'].value_counts()"
   ]
  },
  {
   "cell_type": "code",
   "execution_count": 9,
   "id": "ff5f84c0",
   "metadata": {
    "colab": {
     "base_uri": "https://localhost:8080/"
    },
    "id": "ff5f84c0",
    "outputId": "1cbe1e8c-64fd-4541-de1d-e79b3c952667"
   },
   "outputs": [
    {
     "data": {
      "text/plain": [
       "Terminal\n",
       "International    11963\n",
       "Terminal 1        3610\n",
       "Terminal 3        2699\n",
       "Terminal 2         586\n",
       "Other               27\n",
       "Name: count, dtype: int64"
      ]
     },
     "execution_count": 9,
     "metadata": {},
     "output_type": "execute_result"
    }
   ],
   "source": [
    "df['Terminal'].value_counts()"
   ]
  },
  {
   "cell_type": "code",
   "execution_count": 10,
   "id": "801c4a00",
   "metadata": {
    "colab": {
     "base_uri": "https://localhost:8080/"
    },
    "id": "801c4a00",
    "outputId": "15619e67-6d15-4f6c-9200-b750bee7f6ce"
   },
   "outputs": [
    {
     "data": {
      "text/plain": [
       "GEO Region\n",
       "US                     6981\n",
       "Asia                   4073\n",
       "Europe                 2803\n",
       "Canada                 1794\n",
       "Mexico                 1455\n",
       "Australia / Oceania     951\n",
       "Central America         383\n",
       "Middle East             354\n",
       "South America            91\n",
       "Name: count, dtype: int64"
      ]
     },
     "execution_count": 10,
     "metadata": {},
     "output_type": "execute_result"
    }
   ],
   "source": [
    "df['GEO Region'].value_counts()"
   ]
  },
  {
   "cell_type": "code",
   "execution_count": 11,
   "id": "0638c381",
   "metadata": {
    "colab": {
     "base_uri": "https://localhost:8080/"
    },
    "id": "0638c381",
    "outputId": "0439c795-87c8-4570-9e85-5bf76f3ebd1a"
   },
   "outputs": [
    {
     "data": {
      "text/plain": [
       "Price Category Code\n",
       "Other       16521\n",
       "Low Fare     2364\n",
       "Name: count, dtype: int64"
      ]
     },
     "execution_count": 11,
     "metadata": {},
     "output_type": "execute_result"
    }
   ],
   "source": [
    "df['Price Category Code'].value_counts()"
   ]
  },
  {
   "cell_type": "code",
   "execution_count": 12,
   "id": "de493251",
   "metadata": {
    "id": "de493251"
   },
   "outputs": [],
   "source": [
    "x=df[['Operating Airline','GEO Region','Activity Type Code','Terminal','Passenger Count','Price Category Code','Boarding Area','GEO Summary']]"
   ]
  },
  {
   "cell_type": "code",
   "execution_count": 13,
   "id": "c0b342b7",
   "metadata": {
    "colab": {
     "base_uri": "https://localhost:8080/",
     "height": 206
    },
    "id": "c0b342b7",
    "outputId": "31bb888d-7fc6-494c-e82e-be555c5f1ff4"
   },
   "outputs": [
    {
     "data": {
      "text/html": [
       "<div>\n",
       "<style scoped>\n",
       "    .dataframe tbody tr th:only-of-type {\n",
       "        vertical-align: middle;\n",
       "    }\n",
       "\n",
       "    .dataframe tbody tr th {\n",
       "        vertical-align: top;\n",
       "    }\n",
       "\n",
       "    .dataframe thead th {\n",
       "        text-align: right;\n",
       "    }\n",
       "</style>\n",
       "<table border=\"1\" class=\"dataframe\">\n",
       "  <thead>\n",
       "    <tr style=\"text-align: right;\">\n",
       "      <th></th>\n",
       "      <th>Operating Airline</th>\n",
       "      <th>GEO Region</th>\n",
       "      <th>Activity Type Code</th>\n",
       "      <th>Terminal</th>\n",
       "      <th>Passenger Count</th>\n",
       "      <th>Price Category Code</th>\n",
       "      <th>Boarding Area</th>\n",
       "      <th>GEO Summary</th>\n",
       "    </tr>\n",
       "  </thead>\n",
       "  <tbody>\n",
       "    <tr>\n",
       "      <th>0</th>\n",
       "      <td>ATA Airlines</td>\n",
       "      <td>US</td>\n",
       "      <td>Deplaned</td>\n",
       "      <td>Terminal 1</td>\n",
       "      <td>27271</td>\n",
       "      <td>Low Fare</td>\n",
       "      <td>B</td>\n",
       "      <td>Domestic</td>\n",
       "    </tr>\n",
       "    <tr>\n",
       "      <th>1</th>\n",
       "      <td>ATA Airlines</td>\n",
       "      <td>US</td>\n",
       "      <td>Enplaned</td>\n",
       "      <td>Terminal 1</td>\n",
       "      <td>29131</td>\n",
       "      <td>Low Fare</td>\n",
       "      <td>B</td>\n",
       "      <td>Domestic</td>\n",
       "    </tr>\n",
       "    <tr>\n",
       "      <th>2</th>\n",
       "      <td>ATA Airlines</td>\n",
       "      <td>US</td>\n",
       "      <td>Thru / Transit</td>\n",
       "      <td>Terminal 1</td>\n",
       "      <td>5415</td>\n",
       "      <td>Low Fare</td>\n",
       "      <td>B</td>\n",
       "      <td>Domestic</td>\n",
       "    </tr>\n",
       "    <tr>\n",
       "      <th>3</th>\n",
       "      <td>Air Canada</td>\n",
       "      <td>Canada</td>\n",
       "      <td>Deplaned</td>\n",
       "      <td>Terminal 1</td>\n",
       "      <td>35156</td>\n",
       "      <td>Other</td>\n",
       "      <td>B</td>\n",
       "      <td>International</td>\n",
       "    </tr>\n",
       "    <tr>\n",
       "      <th>4</th>\n",
       "      <td>Air Canada</td>\n",
       "      <td>Canada</td>\n",
       "      <td>Enplaned</td>\n",
       "      <td>Terminal 1</td>\n",
       "      <td>34090</td>\n",
       "      <td>Other</td>\n",
       "      <td>B</td>\n",
       "      <td>International</td>\n",
       "    </tr>\n",
       "  </tbody>\n",
       "</table>\n",
       "</div>"
      ],
      "text/plain": [
       "  Operating Airline GEO Region Activity Type Code    Terminal  \\\n",
       "0      ATA Airlines         US           Deplaned  Terminal 1   \n",
       "1      ATA Airlines         US           Enplaned  Terminal 1   \n",
       "2      ATA Airlines         US     Thru / Transit  Terminal 1   \n",
       "3        Air Canada     Canada           Deplaned  Terminal 1   \n",
       "4        Air Canada     Canada           Enplaned  Terminal 1   \n",
       "\n",
       "   Passenger Count Price Category Code Boarding Area    GEO Summary  \n",
       "0            27271            Low Fare             B       Domestic  \n",
       "1            29131            Low Fare             B       Domestic  \n",
       "2             5415            Low Fare             B       Domestic  \n",
       "3            35156               Other             B  International  \n",
       "4            34090               Other             B  International  "
      ]
     },
     "execution_count": 13,
     "metadata": {},
     "output_type": "execute_result"
    }
   ],
   "source": [
    "x.head()"
   ]
  },
  {
   "cell_type": "code",
   "execution_count": 14,
   "id": "f5e7916e",
   "metadata": {
    "id": "f5e7916e"
   },
   "outputs": [],
   "source": [
    "x=pd.get_dummies(x,drop_first=True)"
   ]
  },
  {
   "cell_type": "markdown",
   "id": "e5yIFp1NdLTo",
   "metadata": {
    "id": "e5yIFp1NdLTo"
   },
   "source": [
    "## Model"
   ]
  },
  {
   "cell_type": "code",
   "execution_count": 15,
   "id": "3a65d95d",
   "metadata": {
    "id": "3a65d95d"
   },
   "outputs": [],
   "source": [
    "model=KMeans(4)"
   ]
  },
  {
   "cell_type": "code",
   "execution_count": 16,
   "id": "1f7be7ca",
   "metadata": {
    "colab": {
     "base_uri": "https://localhost:8080/"
    },
    "id": "1f7be7ca",
    "outputId": "fbf046f9-092a-4584-f09d-25517189a585"
   },
   "outputs": [],
   "source": [
    "model=model.fit(x)"
   ]
  },
  {
   "cell_type": "code",
   "execution_count": 17,
   "id": "4a9da8a7",
   "metadata": {
    "id": "4a9da8a7"
   },
   "outputs": [],
   "source": [
    "tahmin=model.predict(x)"
   ]
  },
  {
   "cell_type": "code",
   "execution_count": 18,
   "id": "89ba639a",
   "metadata": {
    "colab": {
     "base_uri": "https://localhost:8080/"
    },
    "id": "89ba639a",
    "outputId": "af9a3b77-e5fb-4760-f1fd-cc382aa2e17b"
   },
   "outputs": [
    {
     "data": {
      "text/plain": [
       "array([0, 0, 0, ..., 0, 0, 0])"
      ]
     },
     "execution_count": 18,
     "metadata": {},
     "output_type": "execute_result"
    }
   ],
   "source": [
    "tahmin"
   ]
  },
  {
   "cell_type": "code",
   "execution_count": 19,
   "id": "732683f0",
   "metadata": {
    "id": "732683f0"
   },
   "outputs": [],
   "source": [
    "x['cluster']=tahmin"
   ]
  },
  {
   "cell_type": "code",
   "execution_count": 20,
   "id": "1c76fec5",
   "metadata": {
    "colab": {
     "base_uri": "https://localhost:8080/",
     "height": 496
    },
    "id": "1c76fec5",
    "outputId": "f4644559-284a-4af2-899e-8fadcc6ea73a"
   },
   "outputs": [
    {
     "data": {
      "text/html": [
       "<div>\n",
       "<style scoped>\n",
       "    .dataframe tbody tr th:only-of-type {\n",
       "        vertical-align: middle;\n",
       "    }\n",
       "\n",
       "    .dataframe tbody tr th {\n",
       "        vertical-align: top;\n",
       "    }\n",
       "\n",
       "    .dataframe thead th {\n",
       "        text-align: right;\n",
       "    }\n",
       "</style>\n",
       "<table border=\"1\" class=\"dataframe\">\n",
       "  <thead>\n",
       "    <tr style=\"text-align: right;\">\n",
       "      <th></th>\n",
       "      <th>Passenger Count</th>\n",
       "      <th>Operating Airline_ATA Airlines</th>\n",
       "      <th>Operating Airline_Aer Lingus</th>\n",
       "      <th>Operating Airline_Aeromexico</th>\n",
       "      <th>Operating Airline_Air Berlin</th>\n",
       "      <th>Operating Airline_Air Canada</th>\n",
       "      <th>Operating Airline_Air Canada Jazz</th>\n",
       "      <th>Operating Airline_Air China</th>\n",
       "      <th>Operating Airline_Air France</th>\n",
       "      <th>Operating Airline_Air India Limited</th>\n",
       "      <th>...</th>\n",
       "      <th>Price Category Code_Other</th>\n",
       "      <th>Boarding Area_B</th>\n",
       "      <th>Boarding Area_C</th>\n",
       "      <th>Boarding Area_D</th>\n",
       "      <th>Boarding Area_E</th>\n",
       "      <th>Boarding Area_F</th>\n",
       "      <th>Boarding Area_G</th>\n",
       "      <th>Boarding Area_Other</th>\n",
       "      <th>GEO Summary_International</th>\n",
       "      <th>cluster</th>\n",
       "    </tr>\n",
       "  </thead>\n",
       "  <tbody>\n",
       "    <tr>\n",
       "      <th>0</th>\n",
       "      <td>27271</td>\n",
       "      <td>True</td>\n",
       "      <td>False</td>\n",
       "      <td>False</td>\n",
       "      <td>False</td>\n",
       "      <td>False</td>\n",
       "      <td>False</td>\n",
       "      <td>False</td>\n",
       "      <td>False</td>\n",
       "      <td>False</td>\n",
       "      <td>...</td>\n",
       "      <td>False</td>\n",
       "      <td>True</td>\n",
       "      <td>False</td>\n",
       "      <td>False</td>\n",
       "      <td>False</td>\n",
       "      <td>False</td>\n",
       "      <td>False</td>\n",
       "      <td>False</td>\n",
       "      <td>False</td>\n",
       "      <td>0</td>\n",
       "    </tr>\n",
       "    <tr>\n",
       "      <th>1</th>\n",
       "      <td>29131</td>\n",
       "      <td>True</td>\n",
       "      <td>False</td>\n",
       "      <td>False</td>\n",
       "      <td>False</td>\n",
       "      <td>False</td>\n",
       "      <td>False</td>\n",
       "      <td>False</td>\n",
       "      <td>False</td>\n",
       "      <td>False</td>\n",
       "      <td>...</td>\n",
       "      <td>False</td>\n",
       "      <td>True</td>\n",
       "      <td>False</td>\n",
       "      <td>False</td>\n",
       "      <td>False</td>\n",
       "      <td>False</td>\n",
       "      <td>False</td>\n",
       "      <td>False</td>\n",
       "      <td>False</td>\n",
       "      <td>0</td>\n",
       "    </tr>\n",
       "    <tr>\n",
       "      <th>2</th>\n",
       "      <td>5415</td>\n",
       "      <td>True</td>\n",
       "      <td>False</td>\n",
       "      <td>False</td>\n",
       "      <td>False</td>\n",
       "      <td>False</td>\n",
       "      <td>False</td>\n",
       "      <td>False</td>\n",
       "      <td>False</td>\n",
       "      <td>False</td>\n",
       "      <td>...</td>\n",
       "      <td>False</td>\n",
       "      <td>True</td>\n",
       "      <td>False</td>\n",
       "      <td>False</td>\n",
       "      <td>False</td>\n",
       "      <td>False</td>\n",
       "      <td>False</td>\n",
       "      <td>False</td>\n",
       "      <td>False</td>\n",
       "      <td>0</td>\n",
       "    </tr>\n",
       "    <tr>\n",
       "      <th>3</th>\n",
       "      <td>35156</td>\n",
       "      <td>False</td>\n",
       "      <td>False</td>\n",
       "      <td>False</td>\n",
       "      <td>False</td>\n",
       "      <td>True</td>\n",
       "      <td>False</td>\n",
       "      <td>False</td>\n",
       "      <td>False</td>\n",
       "      <td>False</td>\n",
       "      <td>...</td>\n",
       "      <td>True</td>\n",
       "      <td>True</td>\n",
       "      <td>False</td>\n",
       "      <td>False</td>\n",
       "      <td>False</td>\n",
       "      <td>False</td>\n",
       "      <td>False</td>\n",
       "      <td>False</td>\n",
       "      <td>True</td>\n",
       "      <td>2</td>\n",
       "    </tr>\n",
       "    <tr>\n",
       "      <th>4</th>\n",
       "      <td>34090</td>\n",
       "      <td>False</td>\n",
       "      <td>False</td>\n",
       "      <td>False</td>\n",
       "      <td>False</td>\n",
       "      <td>True</td>\n",
       "      <td>False</td>\n",
       "      <td>False</td>\n",
       "      <td>False</td>\n",
       "      <td>False</td>\n",
       "      <td>...</td>\n",
       "      <td>True</td>\n",
       "      <td>True</td>\n",
       "      <td>False</td>\n",
       "      <td>False</td>\n",
       "      <td>False</td>\n",
       "      <td>False</td>\n",
       "      <td>False</td>\n",
       "      <td>False</td>\n",
       "      <td>True</td>\n",
       "      <td>0</td>\n",
       "    </tr>\n",
       "    <tr>\n",
       "      <th>...</th>\n",
       "      <td>...</td>\n",
       "      <td>...</td>\n",
       "      <td>...</td>\n",
       "      <td>...</td>\n",
       "      <td>...</td>\n",
       "      <td>...</td>\n",
       "      <td>...</td>\n",
       "      <td>...</td>\n",
       "      <td>...</td>\n",
       "      <td>...</td>\n",
       "      <td>...</td>\n",
       "      <td>...</td>\n",
       "      <td>...</td>\n",
       "      <td>...</td>\n",
       "      <td>...</td>\n",
       "      <td>...</td>\n",
       "      <td>...</td>\n",
       "      <td>...</td>\n",
       "      <td>...</td>\n",
       "      <td>...</td>\n",
       "      <td>...</td>\n",
       "    </tr>\n",
       "    <tr>\n",
       "      <th>18880</th>\n",
       "      <td>50</td>\n",
       "      <td>False</td>\n",
       "      <td>False</td>\n",
       "      <td>False</td>\n",
       "      <td>False</td>\n",
       "      <td>False</td>\n",
       "      <td>False</td>\n",
       "      <td>False</td>\n",
       "      <td>False</td>\n",
       "      <td>False</td>\n",
       "      <td>...</td>\n",
       "      <td>True</td>\n",
       "      <td>False</td>\n",
       "      <td>False</td>\n",
       "      <td>False</td>\n",
       "      <td>False</td>\n",
       "      <td>False</td>\n",
       "      <td>True</td>\n",
       "      <td>False</td>\n",
       "      <td>True</td>\n",
       "      <td>0</td>\n",
       "    </tr>\n",
       "    <tr>\n",
       "      <th>18881</th>\n",
       "      <td>10868</td>\n",
       "      <td>False</td>\n",
       "      <td>False</td>\n",
       "      <td>False</td>\n",
       "      <td>False</td>\n",
       "      <td>False</td>\n",
       "      <td>False</td>\n",
       "      <td>False</td>\n",
       "      <td>False</td>\n",
       "      <td>False</td>\n",
       "      <td>...</td>\n",
       "      <td>True</td>\n",
       "      <td>False</td>\n",
       "      <td>False</td>\n",
       "      <td>False</td>\n",
       "      <td>False</td>\n",
       "      <td>False</td>\n",
       "      <td>False</td>\n",
       "      <td>False</td>\n",
       "      <td>True</td>\n",
       "      <td>0</td>\n",
       "    </tr>\n",
       "    <tr>\n",
       "      <th>18882</th>\n",
       "      <td>11664</td>\n",
       "      <td>False</td>\n",
       "      <td>False</td>\n",
       "      <td>False</td>\n",
       "      <td>False</td>\n",
       "      <td>False</td>\n",
       "      <td>False</td>\n",
       "      <td>False</td>\n",
       "      <td>False</td>\n",
       "      <td>False</td>\n",
       "      <td>...</td>\n",
       "      <td>True</td>\n",
       "      <td>False</td>\n",
       "      <td>False</td>\n",
       "      <td>False</td>\n",
       "      <td>False</td>\n",
       "      <td>False</td>\n",
       "      <td>False</td>\n",
       "      <td>False</td>\n",
       "      <td>True</td>\n",
       "      <td>0</td>\n",
       "    </tr>\n",
       "    <tr>\n",
       "      <th>18883</th>\n",
       "      <td>804</td>\n",
       "      <td>False</td>\n",
       "      <td>False</td>\n",
       "      <td>False</td>\n",
       "      <td>False</td>\n",
       "      <td>False</td>\n",
       "      <td>False</td>\n",
       "      <td>False</td>\n",
       "      <td>False</td>\n",
       "      <td>False</td>\n",
       "      <td>...</td>\n",
       "      <td>True</td>\n",
       "      <td>False</td>\n",
       "      <td>False</td>\n",
       "      <td>False</td>\n",
       "      <td>False</td>\n",
       "      <td>False</td>\n",
       "      <td>False</td>\n",
       "      <td>False</td>\n",
       "      <td>True</td>\n",
       "      <td>0</td>\n",
       "    </tr>\n",
       "    <tr>\n",
       "      <th>18884</th>\n",
       "      <td>1243</td>\n",
       "      <td>False</td>\n",
       "      <td>False</td>\n",
       "      <td>False</td>\n",
       "      <td>False</td>\n",
       "      <td>False</td>\n",
       "      <td>False</td>\n",
       "      <td>False</td>\n",
       "      <td>False</td>\n",
       "      <td>False</td>\n",
       "      <td>...</td>\n",
       "      <td>True</td>\n",
       "      <td>False</td>\n",
       "      <td>False</td>\n",
       "      <td>False</td>\n",
       "      <td>False</td>\n",
       "      <td>False</td>\n",
       "      <td>False</td>\n",
       "      <td>False</td>\n",
       "      <td>True</td>\n",
       "      <td>0</td>\n",
       "    </tr>\n",
       "  </tbody>\n",
       "</table>\n",
       "<p>18885 rows × 113 columns</p>\n",
       "</div>"
      ],
      "text/plain": [
       "       Passenger Count  Operating Airline_ATA Airlines  \\\n",
       "0                27271                            True   \n",
       "1                29131                            True   \n",
       "2                 5415                            True   \n",
       "3                35156                           False   \n",
       "4                34090                           False   \n",
       "...                ...                             ...   \n",
       "18880               50                           False   \n",
       "18881            10868                           False   \n",
       "18882            11664                           False   \n",
       "18883              804                           False   \n",
       "18884             1243                           False   \n",
       "\n",
       "       Operating Airline_Aer Lingus  Operating Airline_Aeromexico  \\\n",
       "0                             False                         False   \n",
       "1                             False                         False   \n",
       "2                             False                         False   \n",
       "3                             False                         False   \n",
       "4                             False                         False   \n",
       "...                             ...                           ...   \n",
       "18880                         False                         False   \n",
       "18881                         False                         False   \n",
       "18882                         False                         False   \n",
       "18883                         False                         False   \n",
       "18884                         False                         False   \n",
       "\n",
       "       Operating Airline_Air Berlin  Operating Airline_Air Canada  \\\n",
       "0                             False                         False   \n",
       "1                             False                         False   \n",
       "2                             False                         False   \n",
       "3                             False                          True   \n",
       "4                             False                          True   \n",
       "...                             ...                           ...   \n",
       "18880                         False                         False   \n",
       "18881                         False                         False   \n",
       "18882                         False                         False   \n",
       "18883                         False                         False   \n",
       "18884                         False                         False   \n",
       "\n",
       "       Operating Airline_Air Canada Jazz  Operating Airline_Air China  \\\n",
       "0                                  False                        False   \n",
       "1                                  False                        False   \n",
       "2                                  False                        False   \n",
       "3                                  False                        False   \n",
       "4                                  False                        False   \n",
       "...                                  ...                          ...   \n",
       "18880                              False                        False   \n",
       "18881                              False                        False   \n",
       "18882                              False                        False   \n",
       "18883                              False                        False   \n",
       "18884                              False                        False   \n",
       "\n",
       "       Operating Airline_Air France  Operating Airline_Air India Limited  ...  \\\n",
       "0                             False                                False  ...   \n",
       "1                             False                                False  ...   \n",
       "2                             False                                False  ...   \n",
       "3                             False                                False  ...   \n",
       "4                             False                                False  ...   \n",
       "...                             ...                                  ...  ...   \n",
       "18880                         False                                False  ...   \n",
       "18881                         False                                False  ...   \n",
       "18882                         False                                False  ...   \n",
       "18883                         False                                False  ...   \n",
       "18884                         False                                False  ...   \n",
       "\n",
       "       Price Category Code_Other  Boarding Area_B  Boarding Area_C  \\\n",
       "0                          False             True            False   \n",
       "1                          False             True            False   \n",
       "2                          False             True            False   \n",
       "3                           True             True            False   \n",
       "4                           True             True            False   \n",
       "...                          ...              ...              ...   \n",
       "18880                       True            False            False   \n",
       "18881                       True            False            False   \n",
       "18882                       True            False            False   \n",
       "18883                       True            False            False   \n",
       "18884                       True            False            False   \n",
       "\n",
       "       Boarding Area_D  Boarding Area_E  Boarding Area_F  Boarding Area_G  \\\n",
       "0                False            False            False            False   \n",
       "1                False            False            False            False   \n",
       "2                False            False            False            False   \n",
       "3                False            False            False            False   \n",
       "4                False            False            False            False   \n",
       "...                ...              ...              ...              ...   \n",
       "18880            False            False            False             True   \n",
       "18881            False            False            False            False   \n",
       "18882            False            False            False            False   \n",
       "18883            False            False            False            False   \n",
       "18884            False            False            False            False   \n",
       "\n",
       "       Boarding Area_Other  GEO Summary_International  cluster  \n",
       "0                    False                      False        0  \n",
       "1                    False                      False        0  \n",
       "2                    False                      False        0  \n",
       "3                    False                       True        2  \n",
       "4                    False                       True        0  \n",
       "...                    ...                        ...      ...  \n",
       "18880                False                       True        0  \n",
       "18881                False                       True        0  \n",
       "18882                False                       True        0  \n",
       "18883                False                       True        0  \n",
       "18884                False                       True        0  \n",
       "\n",
       "[18885 rows x 113 columns]"
      ]
     },
     "execution_count": 20,
     "metadata": {},
     "output_type": "execute_result"
    }
   ],
   "source": [
    "x"
   ]
  },
  {
   "cell_type": "code",
   "execution_count": 21,
   "id": "5fb62695",
   "metadata": {
    "colab": {
     "base_uri": "https://localhost:8080/"
    },
    "id": "5fb62695",
    "outputId": "b48901ae-f06c-4384-9400-fa90750a8648"
   },
   "outputs": [
    {
     "data": {
      "text/plain": [
       "cluster\n",
       "0    15357\n",
       "2     2001\n",
       "3     1136\n",
       "1      391\n",
       "Name: count, dtype: int64"
      ]
     },
     "execution_count": 21,
     "metadata": {},
     "output_type": "execute_result"
    }
   ],
   "source": [
    "x['cluster'].value_counts()"
   ]
  },
  {
   "cell_type": "code",
   "execution_count": 22,
   "id": "2b71b79a",
   "metadata": {
    "colab": {
     "base_uri": "https://localhost:8080/"
    },
    "id": "2b71b79a",
    "outputId": "3b572808-aaa1-4987-92aa-be9feffe92ef"
   },
   "outputs": [
    {
     "data": {
      "text/plain": [
       "0.7863340675190175"
      ]
     },
     "execution_count": 22,
     "metadata": {},
     "output_type": "execute_result"
    }
   ],
   "source": [
    "silhouette_score(x,tahmin)"
   ]
  },
  {
   "cell_type": "code",
   "execution_count": 23,
   "id": "7tVS8kFJgqDY",
   "metadata": {
    "id": "7tVS8kFJgqDY"
   },
   "outputs": [],
   "source": [
    "df['cluster']=tahmin"
   ]
  },
  {
   "cell_type": "code",
   "execution_count": 24,
   "id": "f7f48702",
   "metadata": {
    "id": "f7f48702"
   },
   "outputs": [],
   "source": [
    "import matplotlib.pyplot as plt"
   ]
  },
  {
   "cell_type": "code",
   "execution_count": 25,
   "id": "68c5ce24",
   "metadata": {
    "colab": {
     "base_uri": "https://localhost:8080/",
     "height": 839
    },
    "id": "68c5ce24",
    "outputId": "36fef762-619e-43ad-ddf4-92d02c7bd3be"
   },
   "outputs": [
    {
     "data": {
      "image/png": "[encoded data removed]",
      "text/plain": [
       "<Figure size 800x550 with 2 Axes>"
      ]
     },
     "metadata": {},
     "output_type": "display_data"
    },
    {
     "data": {
      "text/plain": [
       "<Axes: title={'center': 'Distortion Score Elbow for KMeans Clustering'}, xlabel='k', ylabel='distortion score'>"
      ]
     },
     "execution_count": 25,
     "metadata": {},
     "output_type": "execute_result"
    }
   ],
   "source": [
    "km=KMeans()\n",
    "vis=KElbowVisualizer(km,k=(2,10))\n",
    "vis.fit(x)\n",
    "vis.show()"
   ]
  },
  {
   "cell_type": "markdown",
   "id": "7v89m_y_mU22",
   "metadata": {
    "id": "7v89m_y_mU22"
   },
   "source": [
    "## Result Visualization"
   ]
  },
  {
   "cell_type": "code",
   "execution_count": 26,
   "id": "70ef14ad",
   "metadata": {
    "id": "70ef14ad"
   },
   "outputs": [],
   "source": [
    "from scipy.cluster.hierarchy import dendrogram,linkage\n",
    "data=linkage(x,method='ward',metric='euclidean')"
   ]
  },
  {
   "cell_type": "code",
   "execution_count": 27,
   "id": "cbeea134",
   "metadata": {
    "id": "cbeea134"
   },
   "outputs": [
    {
     "data": {
      "image/png": "[encoded data removed]",
      "text/plain": [
       "<Figure size 2500x600 with 1 Axes>"
      ]
     },
     "metadata": {},
     "output_type": "display_data"
    }
   ],
   "source": [
    "plt.figure(figsize=(25,6))\n",
    "dendrogram(data);"
   ]
  },
  {
   "cell_type": "code",
   "execution_count": 28,
   "id": "HBfme7ojgKMx",
   "metadata": {
    "id": "HBfme7ojgKMx"
   },
   "outputs": [
    {
     "data": {
      "image/png": "[encoded data removed]",
      "text/plain": [
       "<Figure size 800x600 with 2 Axes>"
      ]
     },
     "metadata": {},
     "output_type": "display_data"
    }
   ],
   "source": [
    "import seaborn as sns\n",
    "import matplotlib.pyplot as plt\n",
    "\n",
    "# Korelasyon matrisi\n",
    "correlation_matrix = df[['Passenger Count', 'cluster']].corr()\n",
    "\n",
    "plt.figure(figsize=(8, 6))\n",
    "sns.heatmap(correlation_matrix, annot=True, cmap='coolwarm')\n",
    "plt.title('Correlation Heatmap')\n",
    "plt.show()\n"
   ]
  },
  {
   "cell_type": "code",
   "execution_count": 29,
   "id": "P7E0oOJRjQ3d",
   "metadata": {
    "id": "P7E0oOJRjQ3d"
   },
   "outputs": [
    {
     "name": "stdout",
     "output_type": "stream",
     "text": [
      "<class 'pandas.core.frame.DataFrame'>\n",
      "RangeIndex: 18885 entries, 0 to 18884\n",
      "Data columns (total 13 columns):\n",
      " #   Column                       Non-Null Count  Dtype \n",
      "---  ------                       --------------  ----- \n",
      " 0   Activity Period              18885 non-null  int64 \n",
      " 1   Operating Airline            18885 non-null  object\n",
      " 2   Operating Airline IATA Code  18822 non-null  object\n",
      " 3   Published Airline            18885 non-null  object\n",
      " 4   Published Airline IATA Code  18822 non-null  object\n",
      " 5   GEO Summary                  18885 non-null  object\n",
      " 6   GEO Region                   18885 non-null  object\n",
      " 7   Activity Type Code           18885 non-null  object\n",
      " 8   Price Category Code          18885 non-null  object\n",
      " 9   Terminal                     18885 non-null  object\n",
      " 10  Boarding Area                18885 non-null  object\n",
      " 11  Passenger Count              18885 non-null  int64 \n",
      " 12  cluster                      18885 non-null  int32 \n",
      "dtypes: int32(1), int64(2), object(10)\n",
      "memory usage: 1.8+ MB\n"
     ]
    }
   ],
   "source": [
    "df.info()"
   ]
  },
  {
   "cell_type": "code",
   "execution_count": 30,
   "id": "9dVdAzPAgKPG",
   "metadata": {
    "id": "9dVdAzPAgKPG"
   },
   "outputs": [
    {
     "data": {
      "image/png": "[encoded data removed]",
      "text/plain": [
       "<Figure size 1000x600 with 1 Axes>"
      ]
     },
     "metadata": {},
     "output_type": "display_data"
    }
   ],
   "source": [
    "plt.figure(figsize=(10, 6))\n",
    "sns.countplot(data=df, x='cluster', hue='Price Category Code')\n",
    "plt.title('Price Category Distribution by Cluster')\n",
    "plt.xlabel('Cluster')\n",
    "plt.ylabel('Count')\n",
    "plt.show()\n"
   ]
  },
  {
   "cell_type": "code",
   "execution_count": 31,
   "id": "_noK51vfgKRS",
   "metadata": {
    "id": "_noK51vfgKRS"
   },
   "outputs": [
    {
     "data": {
      "image/png": "[encoded data removed]",
      "text/plain": [
       "<Figure size 1000x600 with 1 Axes>"
      ]
     },
     "metadata": {},
     "output_type": "display_data"
    }
   ],
   "source": [
    "plt.figure(figsize=(10, 6))\n",
    "sns.countplot(data=df, x='cluster', hue='Activity Type Code')\n",
    "plt.title('Activity Type Distribution by Cluster')\n",
    "plt.xlabel('Cluster')\n",
    "plt.ylabel('Count')\n",
    "plt.show()\n"
   ]
  },
  {
   "cell_type": "code",
   "execution_count": 32,
   "id": "I5jQcT6EgHfg",
   "metadata": {
    "id": "I5jQcT6EgHfg"
   },
   "outputs": [
    {
     "data": {
      "image/png": "[encoded data removed]",
      "text/plain": [
       "<Figure size 1000x600 with 1 Axes>"
      ]
     },
     "metadata": {},
     "output_type": "display_data"
    }
   ],
   "source": [
    "plt.figure(figsize=(10, 6))\n",
    "sns.barplot(data=df, x='cluster', y='Passenger Count', estimator='mean')\n",
    "plt.title('Average Passenger Count by Cluster')\n",
    "plt.xlabel('Cluster')\n",
    "plt.ylabel('Average Passenger Count')\n",
    "plt.show()\n"
   ]
  },
  {
   "cell_type": "markdown",
   "id": "LOxmn2sPmIpK",
   "metadata": {
    "id": "LOxmn2sPmIpK"
   },
   "source": [
    "### After applying machine learning, four distinct clusters were formed, and this cluster count was supported using the Elbow Method. The Silhouette Score was 0.78. The differences between the clusters were illustrated with graphs."
   ]
  },
  {
   "cell_type": "code",
   "execution_count": null,
   "id": "0n2Y__zTmJaL",
   "metadata": {
    "id": "0n2Y__zTmJaL"
   },
   "outputs": [],
   "source": []
  }
 ],
 "metadata": {
  "colab": {
   "provenance": []
  },
  "kernelspec": {
   "display_name": "Python 3 (ipykernel)",
   "language": "python",
   "name": "python3"
  },
  "language_info": {
   "codemirror_mode": {
    "name": "ipython",
    "version": 3
   },
   "file_extension": ".py",
   "mimetype": "text/x-python",
   "name": "python",
   "nbconvert_exporter": "python",
   "pygments_lexer": "ipython3",
   "version": "3.11.7"
  }
 },
 "nbformat": 4,
 "nbformat_minor": 5
}
